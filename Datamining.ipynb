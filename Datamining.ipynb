{
  "nbformat": 4,
  "nbformat_minor": 0,
  "metadata": {
    "colab": {
      "name": "Datamining.ipynb",
      "provenance": [],
      "collapsed_sections": [],
      "authorship_tag": "ABX9TyOg5OO0QbqMEXictQFms1mg",
      "include_colab_link": true
    },
    "kernelspec": {
      "name": "python3",
      "display_name": "Python 3"
    },
    "language_info": {
      "name": "python"
    }
  },
  "cells": [
    {
      "cell_type": "markdown",
      "metadata": {
        "id": "view-in-github",
        "colab_type": "text"
      },
      "source": [
        "<a href=\"https://colab.research.google.com/github/JigarRajput/Market-basket-analysis/blob/main/Datamining.ipynb\" target=\"_parent\"><img src=\"https://colab.research.google.com/assets/colab-badge.svg\" alt=\"Open In Colab\"/></a>"
      ]
    },
    {
      "cell_type": "markdown",
      "source": [
        "# Market Basket analysis using **Apriori algorithm**\n",
        "\n",
        "---\n",
        "\n"
      ],
      "metadata": {
        "id": "CDUooFFCEfM4"
      }
    },
    {
      "cell_type": "markdown",
      "source": [
        "Installing python library for Association Rule Mining"
      ],
      "metadata": {
        "id": "ViKPRUTgDYqb"
      }
    },
    {
      "cell_type": "code",
      "source": [
        "!pip install apyori"
      ],
      "metadata": {
        "id": "rPL4wZ75h9j0",
        "outputId": "70a9bb7f-c0a7-4cd5-ab38-c8f3d372c0e8",
        "colab": {
          "base_uri": "https://localhost:8080/"
        }
      },
      "execution_count": 11,
      "outputs": [
        {
          "output_type": "stream",
          "name": "stdout",
          "text": [
            "Collecting apyori\n",
            "  Downloading apyori-1.1.2.tar.gz (8.6 kB)\n",
            "Building wheels for collected packages: apyori\n",
            "  Building wheel for apyori (setup.py) ... \u001b[?25l\u001b[?25hdone\n",
            "  Created wheel for apyori: filename=apyori-1.1.2-py3-none-any.whl size=5974 sha256=ae26443b3d6cf6db72802a512db64301226c89f9faa4f77525953e143497a896\n",
            "  Stored in directory: /root/.cache/pip/wheels/cb/f6/e1/57973c631d27efd1a2f375bd6a83b2a616c4021f24aab84080\n",
            "Successfully built apyori\n",
            "Installing collected packages: apyori\n",
            "Successfully installed apyori-1.1.2\n"
          ]
        }
      ]
    },
    {
      "cell_type": "markdown",
      "source": [
        "importing necessary modules into the notebook\n"
      ],
      "metadata": {
        "id": "OsHre64RDoXc"
      }
    },
    {
      "cell_type": "code",
      "source": [
        "from apyori import apriori\n",
        "import pandas as pd"
      ],
      "metadata": {
        "id": "7RU5Z8-YiDFD"
      },
      "execution_count": 12,
      "outputs": []
    },
    {
      "cell_type": "markdown",
      "source": [
        "Reading the data in csv into pandas dataframe"
      ],
      "metadata": {
        "id": "W1aIjNhiD3cg"
      }
    },
    {
      "cell_type": "code",
      "source": [
        "dataset = pd.read_csv(\"market_basket_data.csv\")\n",
        "#Using head function to display top five rows\n",
        "dataset.head()"
      ],
      "metadata": {
        "id": "_I3tclOZlAtK",
        "colab": {
          "base_uri": "https://localhost:8080/",
          "height": 206
        },
        "outputId": "e70276f2-f90a-41d8-9e61-d643a9fb005a"
      },
      "execution_count": 15,
      "outputs": [
        {
          "output_type": "execute_result",
          "data": {
            "text/plain": [
              "   transaction time_stamp  ID age_group fresh_fruit sea_food\n",
              "0          1.0      april   1    senior      orange     tuna\n",
              "1          NaN      april   2      teen      banana     tuna\n",
              "2          NaN      april   4      teen      banana     tuna\n",
              "3          2.0       june   1    senior      orange  anchovy\n",
              "4          NaN       june   3     adult      banana     tuna"
            ],
            "text/html": [
              "\n",
              "  <div id=\"df-8299bebe-773b-4db1-9181-22ac542cdaaf\">\n",
              "    <div class=\"colab-df-container\">\n",
              "      <div>\n",
              "<style scoped>\n",
              "    .dataframe tbody tr th:only-of-type {\n",
              "        vertical-align: middle;\n",
              "    }\n",
              "\n",
              "    .dataframe tbody tr th {\n",
              "        vertical-align: top;\n",
              "    }\n",
              "\n",
              "    .dataframe thead th {\n",
              "        text-align: right;\n",
              "    }\n",
              "</style>\n",
              "<table border=\"1\" class=\"dataframe\">\n",
              "  <thead>\n",
              "    <tr style=\"text-align: right;\">\n",
              "      <th></th>\n",
              "      <th>transaction</th>\n",
              "      <th>time_stamp</th>\n",
              "      <th>ID</th>\n",
              "      <th>age_group</th>\n",
              "      <th>fresh_fruit</th>\n",
              "      <th>sea_food</th>\n",
              "    </tr>\n",
              "  </thead>\n",
              "  <tbody>\n",
              "    <tr>\n",
              "      <th>0</th>\n",
              "      <td>1.0</td>\n",
              "      <td>april</td>\n",
              "      <td>1</td>\n",
              "      <td>senior</td>\n",
              "      <td>orange</td>\n",
              "      <td>tuna</td>\n",
              "    </tr>\n",
              "    <tr>\n",
              "      <th>1</th>\n",
              "      <td>NaN</td>\n",
              "      <td>april</td>\n",
              "      <td>2</td>\n",
              "      <td>teen</td>\n",
              "      <td>banana</td>\n",
              "      <td>tuna</td>\n",
              "    </tr>\n",
              "    <tr>\n",
              "      <th>2</th>\n",
              "      <td>NaN</td>\n",
              "      <td>april</td>\n",
              "      <td>4</td>\n",
              "      <td>teen</td>\n",
              "      <td>banana</td>\n",
              "      <td>tuna</td>\n",
              "    </tr>\n",
              "    <tr>\n",
              "      <th>3</th>\n",
              "      <td>2.0</td>\n",
              "      <td>june</td>\n",
              "      <td>1</td>\n",
              "      <td>senior</td>\n",
              "      <td>orange</td>\n",
              "      <td>anchovy</td>\n",
              "    </tr>\n",
              "    <tr>\n",
              "      <th>4</th>\n",
              "      <td>NaN</td>\n",
              "      <td>june</td>\n",
              "      <td>3</td>\n",
              "      <td>adult</td>\n",
              "      <td>banana</td>\n",
              "      <td>tuna</td>\n",
              "    </tr>\n",
              "  </tbody>\n",
              "</table>\n",
              "</div>\n",
              "      <button class=\"colab-df-convert\" onclick=\"convertToInteractive('df-8299bebe-773b-4db1-9181-22ac542cdaaf')\"\n",
              "              title=\"Convert this dataframe to an interactive table.\"\n",
              "              style=\"display:none;\">\n",
              "        \n",
              "  <svg xmlns=\"http://www.w3.org/2000/svg\" height=\"24px\"viewBox=\"0 0 24 24\"\n",
              "       width=\"24px\">\n",
              "    <path d=\"M0 0h24v24H0V0z\" fill=\"none\"/>\n",
              "    <path d=\"M18.56 5.44l.94 2.06.94-2.06 2.06-.94-2.06-.94-.94-2.06-.94 2.06-2.06.94zm-11 1L8.5 8.5l.94-2.06 2.06-.94-2.06-.94L8.5 2.5l-.94 2.06-2.06.94zm10 10l.94 2.06.94-2.06 2.06-.94-2.06-.94-.94-2.06-.94 2.06-2.06.94z\"/><path d=\"M17.41 7.96l-1.37-1.37c-.4-.4-.92-.59-1.43-.59-.52 0-1.04.2-1.43.59L10.3 9.45l-7.72 7.72c-.78.78-.78 2.05 0 2.83L4 21.41c.39.39.9.59 1.41.59.51 0 1.02-.2 1.41-.59l7.78-7.78 2.81-2.81c.8-.78.8-2.07 0-2.86zM5.41 20L4 18.59l7.72-7.72 1.47 1.35L5.41 20z\"/>\n",
              "  </svg>\n",
              "      </button>\n",
              "      \n",
              "  <style>\n",
              "    .colab-df-container {\n",
              "      display:flex;\n",
              "      flex-wrap:wrap;\n",
              "      gap: 12px;\n",
              "    }\n",
              "\n",
              "    .colab-df-convert {\n",
              "      background-color: #E8F0FE;\n",
              "      border: none;\n",
              "      border-radius: 50%;\n",
              "      cursor: pointer;\n",
              "      display: none;\n",
              "      fill: #1967D2;\n",
              "      height: 32px;\n",
              "      padding: 0 0 0 0;\n",
              "      width: 32px;\n",
              "    }\n",
              "\n",
              "    .colab-df-convert:hover {\n",
              "      background-color: #E2EBFA;\n",
              "      box-shadow: 0px 1px 2px rgba(60, 64, 67, 0.3), 0px 1px 3px 1px rgba(60, 64, 67, 0.15);\n",
              "      fill: #174EA6;\n",
              "    }\n",
              "\n",
              "    [theme=dark] .colab-df-convert {\n",
              "      background-color: #3B4455;\n",
              "      fill: #D2E3FC;\n",
              "    }\n",
              "\n",
              "    [theme=dark] .colab-df-convert:hover {\n",
              "      background-color: #434B5C;\n",
              "      box-shadow: 0px 1px 3px 1px rgba(0, 0, 0, 0.15);\n",
              "      filter: drop-shadow(0px 1px 2px rgba(0, 0, 0, 0.3));\n",
              "      fill: #FFFFFF;\n",
              "    }\n",
              "  </style>\n",
              "\n",
              "      <script>\n",
              "        const buttonEl =\n",
              "          document.querySelector('#df-8299bebe-773b-4db1-9181-22ac542cdaaf button.colab-df-convert');\n",
              "        buttonEl.style.display =\n",
              "          google.colab.kernel.accessAllowed ? 'block' : 'none';\n",
              "\n",
              "        async function convertToInteractive(key) {\n",
              "          const element = document.querySelector('#df-8299bebe-773b-4db1-9181-22ac542cdaaf');\n",
              "          const dataTable =\n",
              "            await google.colab.kernel.invokeFunction('convertToInteractive',\n",
              "                                                     [key], {});\n",
              "          if (!dataTable) return;\n",
              "\n",
              "          const docLinkHtml = 'Like what you see? Visit the ' +\n",
              "            '<a target=\"_blank\" href=https://colab.research.google.com/notebooks/data_table.ipynb>data table notebook</a>'\n",
              "            + ' to learn more about interactive tables.';\n",
              "          element.innerHTML = '';\n",
              "          dataTable['output_type'] = 'display_data';\n",
              "          await google.colab.output.renderOutput(dataTable, element);\n",
              "          const docLink = document.createElement('div');\n",
              "          docLink.innerHTML = docLinkHtml;\n",
              "          element.appendChild(docLink);\n",
              "        }\n",
              "      </script>\n",
              "    </div>\n",
              "  </div>\n",
              "  "
            ]
          },
          "metadata": {},
          "execution_count": 15
        }
      ]
    },
    {
      "cell_type": "markdown",
      "source": [
        "Converting dataframe into 2-dimensional array because method implementing the algorithm accepts data in 2-D array"
      ],
      "metadata": {
        "id": "vDbpviu8ELYw"
      }
    },
    {
      "cell_type": "code",
      "source": [
        "dataArray =[]\n",
        "for i in range(0,12):\n",
        "  dataArray.append([str(updated_dataset.values[i,j]) for j in range(0,3)])"
      ],
      "metadata": {
        "id": "R5DQlWISA2rP"
      },
      "execution_count": 30,
      "outputs": []
    },
    {
      "cell_type": "code",
      "source": [
        "#applying apriori algorithm\n",
        "association_rules = apriori(dataArray, min_support=0.0045, min_confidence=0.2, min_lift=3, min_length=2)\n",
        "association_results = list(association_rules)"
      ],
      "metadata": {
        "id": "v_NED6umC8Y-"
      },
      "execution_count": 31,
      "outputs": []
    },
    {
      "cell_type": "code",
      "source": [
        "print(association_results)"
      ],
      "metadata": {
        "colab": {
          "base_uri": "https://localhost:8080/"
        },
        "id": "2Z3picVrFLqe",
        "outputId": "ce462de0-4f3d-4796-b41a-f035b9582932"
      },
      "execution_count": 32,
      "outputs": [
        {
          "output_type": "stream",
          "name": "stdout",
          "text": [
            "[RelationRecord(items=frozenset({'anchovy', 'adult', 'orange'}), support=0.08333333333333333, ordered_statistics=[OrderedStatistic(items_base=frozenset({'anchovy'}), items_add=frozenset({'adult', 'orange'}), confidence=0.25, lift=3.0), OrderedStatistic(items_base=frozenset({'adult', 'orange'}), items_add=frozenset({'anchovy'}), confidence=1.0, lift=3.0)]), RelationRecord(items=frozenset({'tuna', 'senior', 'orange'}), support=0.08333333333333333, ordered_statistics=[OrderedStatistic(items_base=frozenset({'senior'}), items_add=frozenset({'tuna', 'orange'}), confidence=0.25, lift=3.0), OrderedStatistic(items_base=frozenset({'tuna', 'orange'}), items_add=frozenset({'senior'}), confidence=1.0, lift=3.0)]), RelationRecord(items=frozenset({'teen', 'tuna ', 'orange'}), support=0.08333333333333333, ordered_statistics=[OrderedStatistic(items_base=frozenset({'tuna '}), items_add=frozenset({'teen', 'orange'}), confidence=1.0, lift=12.0), OrderedStatistic(items_base=frozenset({'teen', 'orange'}), items_add=frozenset({'tuna '}), confidence=1.0, lift=12.0)])]\n"
          ]
        }
      ]
    },
    {
      "cell_type": "markdown",
      "source": [
        "Here we are going to display Rule, Support, and lift ratio for every above association rule by using for loop."
      ],
      "metadata": {
        "id": "KVCROW6BKJ_e"
      }
    },
    {
      "cell_type": "code",
      "source": [
        "for record in association_results: \n",
        "  # record is one of the items of the list which contains item sets and its rules\n",
        "  print(\"Item set: \"+ str(record[0]))\n",
        "  print(\"Item set's support: \" + str(record[1]) +\"\\n\")\n",
        "  rules = record[2]\n",
        "  for rule in rules:\n",
        "    base_item = rule[0]\n",
        "    applied_by_rule = rule[1]\n",
        "    confidence = rule[2]\n",
        "    lift = rule[3]\n",
        "    print(str(base_item) + \" -> \" + str(applied_by_rule))\n",
        "    print(\"Confidence: \" + str(confidence))\n",
        "    print(\"Lift: \" + str(lift))\n",
        "    print(\"-----------------------------------\")"
      ],
      "metadata": {
        "colab": {
          "base_uri": "https://localhost:8080/"
        },
        "id": "4FzIn5mSYKqQ",
        "outputId": "6cc9b080-00fd-4c9a-ecad-4573ad3dc219"
      },
      "execution_count": 47,
      "outputs": [
        {
          "output_type": "stream",
          "name": "stdout",
          "text": [
            "Item set: frozenset({'anchovy', 'adult', 'orange'})\n",
            "Item set's support: 0.08333333333333333\n",
            "\n",
            "frozenset({'anchovy'}) -> frozenset({'adult', 'orange'})\n",
            "Confidence: 0.25\n",
            "Lift: 3.0\n",
            "-----------------------------------\n",
            "frozenset({'adult', 'orange'}) -> frozenset({'anchovy'})\n",
            "Confidence: 1.0\n",
            "Lift: 3.0\n",
            "-----------------------------------\n",
            "Item set: frozenset({'tuna', 'senior', 'orange'})\n",
            "Item set's support: 0.08333333333333333\n",
            "\n",
            "frozenset({'senior'}) -> frozenset({'tuna', 'orange'})\n",
            "Confidence: 0.25\n",
            "Lift: 3.0\n",
            "-----------------------------------\n",
            "frozenset({'tuna', 'orange'}) -> frozenset({'senior'})\n",
            "Confidence: 1.0\n",
            "Lift: 3.0\n",
            "-----------------------------------\n",
            "Item set: frozenset({'teen', 'tuna ', 'orange'})\n",
            "Item set's support: 0.08333333333333333\n",
            "\n",
            "frozenset({'tuna '}) -> frozenset({'teen', 'orange'})\n",
            "Confidence: 1.0\n",
            "Lift: 12.0\n",
            "-----------------------------------\n",
            "frozenset({'teen', 'orange'}) -> frozenset({'tuna '})\n",
            "Confidence: 1.0\n",
            "Lift: 12.0\n",
            "-----------------------------------\n"
          ]
        }
      ]
    }
  ]
}